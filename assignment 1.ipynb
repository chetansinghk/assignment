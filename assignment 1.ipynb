{
 "cells": [
  {
   "cell_type": "code",
   "execution_count": null,
   "id": "e1b81204",
   "metadata": {},
   "outputs": [],
   "source": [
    "1. In the below elements which of them are values or an expression? eg:- values can be integer or string and expressions will be mathematical operators.\n",
    "    \n",
    " answer \n",
    "\n",
    "* ,expression\n",
    "\n",
    "'hello' ,value\n",
    "\n",
    "-87.8 ,value\n",
    "\n",
    "- ,expression\n",
    "\n",
    "/  ,expression\n",
    "\n",
    "+ ,expression\n"
   ]
  },
  {
   "cell_type": "code",
   "execution_count": null,
   "id": "d619c7a7",
   "metadata": {},
   "outputs": [],
   "source": [
    "2. What is the difference between string and variable?\n",
    "\n",
    " answer\n",
    "    \n",
    "- string is like a statement or paragraph in which we can include all the numbers , letters ,symbols ,value, etc. followed by \"\" or '' commas.\n",
    "\n",
    "- variable is like a place where it holds a value and is defining some value."
   ]
  },
  {
   "cell_type": "code",
   "execution_count": null,
   "id": "243fa18e",
   "metadata": {},
   "outputs": [],
   "source": [
    "3. Describe three different data types.\n",
    "\n",
    "answer\n",
    "\n",
    "- integer , integer can be any type of number \n",
    "\n",
    "- boolian , boolian data represents in the form of True or False , where we assume True=1 and Flase=0\n",
    "\n",
    "- complex , complex data is the combination of real and imaginary number. for ex; 6+7j, where 6 is the real and 7 is imaginary number and j is represented as variable for imaginary number\n"
   ]
  },
  {
   "cell_type": "code",
   "execution_count": null,
   "id": "1e894cc5",
   "metadata": {},
   "outputs": [],
   "source": [
    "4. What is an expression made up of? What do all expressions do?\n",
    "\n",
    "answer\n",
    "\n",
    "-an expression is made up of operators.\n",
    "\n",
    "-expressions is used to presents some value. for ex; a = 10, in this = is a expression that is defining a variable to its value "
   ]
  },
  {
   "cell_type": "code",
   "execution_count": null,
   "id": "e9164c42",
   "metadata": {},
   "outputs": [],
   "source": [
    "5. This assignment statements, like spam = 10. What is the difference between an\n",
    "expression and a statement?\n",
    "\n",
    "answer\n",
    "\n",
    " spam =10 ; this can be expression\n",
    " \"spam = 10\"; this can be statment   \n"
   ]
  },
  {
   "cell_type": "code",
   "execution_count": null,
   "id": "3c04d513",
   "metadata": {},
   "outputs": [],
   "source": [
    "6. After running the following code, what does the variable bacon contain?\n",
    "bacon = 22\n",
    "bacon + 1\n",
    "\n",
    "answer \n",
    "\n",
    "it is contaning a integer that we already defined, i.e bacon = 22"
   ]
  },
  {
   "cell_type": "code",
   "execution_count": 4,
   "id": "2bae9b01",
   "metadata": {},
   "outputs": [],
   "source": [
    "bacon = 22"
   ]
  },
  {
   "cell_type": "code",
   "execution_count": 5,
   "id": "eb9e4733",
   "metadata": {},
   "outputs": [
    {
     "data": {
      "text/plain": [
       "23"
      ]
     },
     "execution_count": 5,
     "metadata": {},
     "output_type": "execute_result"
    }
   ],
   "source": [
    "bacon + 1"
   ]
  },
  {
   "cell_type": "code",
   "execution_count": null,
   "id": "ac4fd232",
   "metadata": {
    "collapsed": true
   },
   "outputs": [],
   "source": [
    " 7. What should the values of the following two terms be ?\n",
    "    'spam' + 'spamspam'\n",
    "    'spam'* 3\n",
    "    \n",
    "    answer \n",
    "    \n",
    "    its 'spamspamspam' for both the terms."
   ]
  },
  {
   "cell_type": "code",
   "execution_count": 6,
   "id": "1afcfa89",
   "metadata": {},
   "outputs": [
    {
     "data": {
      "text/plain": [
       "'spamspamspam'"
      ]
     },
     "execution_count": 6,
     "metadata": {},
     "output_type": "execute_result"
    }
   ],
   "source": [
    "'spam' +'spamspam'"
   ]
  },
  {
   "cell_type": "code",
   "execution_count": 7,
   "id": "a878013e",
   "metadata": {},
   "outputs": [
    {
     "data": {
      "text/plain": [
       "'spamspamspam'"
      ]
     },
     "execution_count": 7,
     "metadata": {},
     "output_type": "execute_result"
    }
   ],
   "source": [
    "'spam'*3"
   ]
  },
  {
   "cell_type": "code",
   "execution_count": null,
   "id": "b87a10e6",
   "metadata": {},
   "outputs": [],
   "source": [
    "8. Why is eggs a valid variable name while 100 is invalid? \n",
    "\n",
    "----------------------not getting------------------------- please tell me "
   ]
  },
  {
   "cell_type": "code",
   "execution_count": 8,
   "id": "fa7ae14d",
   "metadata": {},
   "outputs": [
    {
     "ename": "NameError",
     "evalue": "name 'eggs' is not defined",
     "output_type": "error",
     "traceback": [
      "\u001b[0;31m---------------------------------------------------------------------------\u001b[0m",
      "\u001b[0;31mNameError\u001b[0m                                 Traceback (most recent call last)",
      "\u001b[0;32m/var/folders/_y/r8whk5bx2b3f6gvds3h49rl80000gn/T/ipykernel_1871/2371141391.py\u001b[0m in \u001b[0;36m<module>\u001b[0;34m\u001b[0m\n\u001b[0;32m----> 1\u001b[0;31m \u001b[0meggs\u001b[0m\u001b[0;34m\u001b[0m\u001b[0;34m\u001b[0m\u001b[0m\n\u001b[0m",
      "\u001b[0;31mNameError\u001b[0m: name 'eggs' is not defined"
     ]
    }
   ],
   "source": [
    "eggs"
   ]
  },
  {
   "cell_type": "code",
   "execution_count": 9,
   "id": "fe729a52",
   "metadata": {},
   "outputs": [
    {
     "data": {
      "text/plain": [
       "100"
      ]
     },
     "execution_count": 9,
     "metadata": {},
     "output_type": "execute_result"
    }
   ],
   "source": [
    "100"
   ]
  },
  {
   "cell_type": "code",
   "execution_count": null,
   "id": "21343ba0",
   "metadata": {},
   "outputs": [],
   "source": [
    "9. What three functions can be used to get the integer, floating-point number, or string\n",
    "version of a value?"
   ]
  },
  {
   "cell_type": "code",
   "execution_count": 20,
   "id": "afccef98",
   "metadata": {},
   "outputs": [],
   "source": [
    "a = 17\n"
   ]
  },
  {
   "cell_type": "code",
   "execution_count": 21,
   "id": "70be4116",
   "metadata": {},
   "outputs": [
    {
     "data": {
      "text/plain": [
       "'17'"
      ]
     },
     "execution_count": 21,
     "metadata": {},
     "output_type": "execute_result"
    }
   ],
   "source": [
    "str(a)"
   ]
  },
  {
   "cell_type": "code",
   "execution_count": 22,
   "id": "ca90d8c6",
   "metadata": {},
   "outputs": [
    {
     "data": {
      "text/plain": [
       "17"
      ]
     },
     "execution_count": 22,
     "metadata": {},
     "output_type": "execute_result"
    }
   ],
   "source": [
    "int(a)"
   ]
  },
  {
   "cell_type": "code",
   "execution_count": 23,
   "id": "e554b156",
   "metadata": {},
   "outputs": [
    {
     "data": {
      "text/plain": [
       "17.0"
      ]
     },
     "execution_count": 23,
     "metadata": {},
     "output_type": "execute_result"
    }
   ],
   "source": [
    "float(a)"
   ]
  },
  {
   "cell_type": "code",
   "execution_count": null,
   "id": "3767cb32",
   "metadata": {},
   "outputs": [],
   "source": [
    "10. Why does this expression cause an error? How can you fix it?\n",
    " 'i have eaten' + 99 + 'burritos'\n",
    "    \n",
    "    answer\n",
    "    \n",
    "  -  beacause this expression is containing two data types i.e string and integer , and we cannot add two differernt data types;"
   ]
  },
  {
   "cell_type": "code",
   "execution_count": null,
   "id": "de3b0bc1",
   "metadata": {},
   "outputs": [],
   "source": [
    "here's how to fix it \n",
    "by changing 99 to a string data"
   ]
  },
  {
   "cell_type": "code",
   "execution_count": 26,
   "id": "f0fa44eb",
   "metadata": {},
   "outputs": [
    {
     "data": {
      "text/plain": [
       "'i have eaten99burritos'"
      ]
     },
     "execution_count": 26,
     "metadata": {},
     "output_type": "execute_result"
    }
   ],
   "source": [
    "'i have eaten' + '99' + 'burritos'\n",
    "    "
   ]
  }
 ],
 "metadata": {
  "kernelspec": {
   "display_name": "Python 3 (ipykernel)",
   "language": "python",
   "name": "python3"
  },
  "language_info": {
   "codemirror_mode": {
    "name": "ipython",
    "version": 3
   },
   "file_extension": ".py",
   "mimetype": "text/x-python",
   "name": "python",
   "nbconvert_exporter": "python",
   "pygments_lexer": "ipython3",
   "version": "3.9.7"
  }
 },
 "nbformat": 4,
 "nbformat_minor": 5
}
